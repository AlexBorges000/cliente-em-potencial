{
 "cells": [
  {
   "cell_type": "markdown",
   "id": "0fdb5fde-a3ea-4b1f-a87d-68c22f8c8d1a",
   "metadata": {},
   "source": [
    "# Dados pegos do site [Kaggle](https://www.kaggle.com/datasets/owaiskhan9654/health-insurance-lead-prediction-raw-data)"
   ]
  },
  {
   "cell_type": "code",
   "execution_count": 1,
   "id": "4c5d201e-4cd7-4d3a-b806-3a6c1c4d05dd",
   "metadata": {},
   "outputs": [
    {
     "name": "stdout",
     "output_type": "stream",
     "text": [
      "(CVXPY) Jul 23 01:03:39 PM: Encountered unexpected exception importing solver CVXOPT:\n",
      "ImportError('DLL load failed while importing base: Não foi possível encontrar o módulo especificado.')\n",
      "(CVXPY) Jul 23 01:03:39 PM: Encountered unexpected exception importing solver GLPK:\n",
      "ImportError('DLL load failed while importing base: Não foi possível encontrar o módulo especificado.')\n",
      "(CVXPY) Jul 23 01:03:39 PM: Encountered unexpected exception importing solver GLPK_MI:\n",
      "ImportError('DLL load failed while importing base: Não foi possível encontrar o módulo especificado.')\n"
     ]
    }
   ],
   "source": [
    "import pandas as pd\n",
    "import numpy as np\n",
    "import seaborn as srn\n",
    "from sklearn.model_selection import train_test_split\n",
    "from sklearn.metrics import confusion_matrix, accuracy_score, recall_score, f1_score\n",
    "from sklearn.ensemble import RandomForestClassifier\n",
    "from sklearn.preprocessing import LabelEncoder\n",
    "from keras.utils import np_utils\n",
    "from fancyimpute import IterativeImputer"
   ]
  },
  {
   "cell_type": "code",
   "execution_count": 2,
   "id": "c7bb80ef-835a-4855-9595-5943cee91477",
   "metadata": {},
   "outputs": [
    {
     "data": {
      "text/html": [
       "<div>\n",
       "<style scoped>\n",
       "    .dataframe tbody tr th:only-of-type {\n",
       "        vertical-align: middle;\n",
       "    }\n",
       "\n",
       "    .dataframe tbody tr th {\n",
       "        vertical-align: top;\n",
       "    }\n",
       "\n",
       "    .dataframe thead th {\n",
       "        text-align: right;\n",
       "    }\n",
       "</style>\n",
       "<table border=\"1\" class=\"dataframe\">\n",
       "  <thead>\n",
       "    <tr style=\"text-align: right;\">\n",
       "      <th></th>\n",
       "      <th>ID</th>\n",
       "      <th>City_Code</th>\n",
       "      <th>Region_Code</th>\n",
       "      <th>Accomodation_Type</th>\n",
       "      <th>Reco_Insurance_Type</th>\n",
       "      <th>Upper_Age</th>\n",
       "      <th>Lower_Age</th>\n",
       "      <th>Is_Spouse</th>\n",
       "      <th>Health Indicator</th>\n",
       "      <th>Holding_Policy_Duration</th>\n",
       "      <th>Holding_Policy_Type</th>\n",
       "      <th>Reco_Policy_Cat</th>\n",
       "      <th>Reco_Policy_Premium</th>\n",
       "      <th>Response</th>\n",
       "    </tr>\n",
       "  </thead>\n",
       "  <tbody>\n",
       "    <tr>\n",
       "      <th>0</th>\n",
       "      <td>1</td>\n",
       "      <td>C3</td>\n",
       "      <td>3213</td>\n",
       "      <td>Rented</td>\n",
       "      <td>Individual</td>\n",
       "      <td>36</td>\n",
       "      <td>36</td>\n",
       "      <td>No</td>\n",
       "      <td>X1</td>\n",
       "      <td>14+</td>\n",
       "      <td>3.0</td>\n",
       "      <td>22</td>\n",
       "      <td>11628.0</td>\n",
       "      <td>0</td>\n",
       "    </tr>\n",
       "    <tr>\n",
       "      <th>1</th>\n",
       "      <td>2</td>\n",
       "      <td>C5</td>\n",
       "      <td>1117</td>\n",
       "      <td>Owned</td>\n",
       "      <td>Joint</td>\n",
       "      <td>75</td>\n",
       "      <td>22</td>\n",
       "      <td>No</td>\n",
       "      <td>X2</td>\n",
       "      <td>NaN</td>\n",
       "      <td>NaN</td>\n",
       "      <td>22</td>\n",
       "      <td>30510.0</td>\n",
       "      <td>0</td>\n",
       "    </tr>\n",
       "    <tr>\n",
       "      <th>2</th>\n",
       "      <td>3</td>\n",
       "      <td>C5</td>\n",
       "      <td>3732</td>\n",
       "      <td>Owned</td>\n",
       "      <td>Individual</td>\n",
       "      <td>32</td>\n",
       "      <td>32</td>\n",
       "      <td>No</td>\n",
       "      <td>NaN</td>\n",
       "      <td>1.0</td>\n",
       "      <td>1.0</td>\n",
       "      <td>19</td>\n",
       "      <td>7450.0</td>\n",
       "      <td>1</td>\n",
       "    </tr>\n",
       "    <tr>\n",
       "      <th>3</th>\n",
       "      <td>4</td>\n",
       "      <td>C24</td>\n",
       "      <td>4378</td>\n",
       "      <td>Owned</td>\n",
       "      <td>Joint</td>\n",
       "      <td>52</td>\n",
       "      <td>48</td>\n",
       "      <td>No</td>\n",
       "      <td>X1</td>\n",
       "      <td>14+</td>\n",
       "      <td>3.0</td>\n",
       "      <td>19</td>\n",
       "      <td>17780.0</td>\n",
       "      <td>0</td>\n",
       "    </tr>\n",
       "    <tr>\n",
       "      <th>4</th>\n",
       "      <td>5</td>\n",
       "      <td>C8</td>\n",
       "      <td>2190</td>\n",
       "      <td>Rented</td>\n",
       "      <td>Individual</td>\n",
       "      <td>44</td>\n",
       "      <td>44</td>\n",
       "      <td>No</td>\n",
       "      <td>X2</td>\n",
       "      <td>3.0</td>\n",
       "      <td>1.0</td>\n",
       "      <td>16</td>\n",
       "      <td>10404.0</td>\n",
       "      <td>0</td>\n",
       "    </tr>\n",
       "  </tbody>\n",
       "</table>\n",
       "</div>"
      ],
      "text/plain": [
       "   ID City_Code  Region_Code Accomodation_Type Reco_Insurance_Type  Upper_Age  \\\n",
       "0   1        C3         3213            Rented          Individual         36   \n",
       "1   2        C5         1117             Owned               Joint         75   \n",
       "2   3        C5         3732             Owned          Individual         32   \n",
       "3   4       C24         4378             Owned               Joint         52   \n",
       "4   5        C8         2190            Rented          Individual         44   \n",
       "\n",
       "   Lower_Age Is_Spouse Health Indicator Holding_Policy_Duration  \\\n",
       "0         36        No               X1                     14+   \n",
       "1         22        No               X2                     NaN   \n",
       "2         32        No              NaN                     1.0   \n",
       "3         48        No               X1                     14+   \n",
       "4         44        No               X2                     3.0   \n",
       "\n",
       "   Holding_Policy_Type  Reco_Policy_Cat  Reco_Policy_Premium  Response  \n",
       "0                  3.0               22              11628.0         0  \n",
       "1                  NaN               22              30510.0         0  \n",
       "2                  1.0               19               7450.0         1  \n",
       "3                  3.0               19              17780.0         0  \n",
       "4                  1.0               16              10404.0         0  "
      ]
     },
     "execution_count": 2,
     "metadata": {},
     "output_type": "execute_result"
    }
   ],
   "source": [
    "df_data = pd.read_csv(\"Health_Prediction.csv\")\n",
    "df_data.head()"
   ]
  },
  {
   "cell_type": "markdown",
   "id": "90664800-eb92-442b-bbc8-c5fb1137124d",
   "metadata": {},
   "source": [
    "# Exploração, limpeza e transformação de dados"
   ]
  },
  {
   "cell_type": "code",
   "execution_count": 3,
   "id": "b00306db-f5c1-4abe-871f-3f6cb1fbad4c",
   "metadata": {},
   "outputs": [
    {
     "data": {
      "text/plain": [
       "(50882, 14)"
      ]
     },
     "execution_count": 3,
     "metadata": {},
     "output_type": "execute_result"
    }
   ],
   "source": [
    "df_data.shape"
   ]
  },
  {
   "cell_type": "code",
   "execution_count": 4,
   "id": "4d6005b1-1284-4075-9328-a8f06cf6568b",
   "metadata": {},
   "outputs": [],
   "source": [
    "df_data.Holding_Policy_Duration = df_data.Holding_Policy_Duration.str.replace(\"14+\",\"15\",regex=False)\n",
    "df_data.Holding_Policy_Duration = pd.to_numeric(df_data.Holding_Policy_Duration)"
   ]
  },
  {
   "cell_type": "code",
   "execution_count": 5,
   "id": "628dee09-fa1b-42cf-81f0-e9a308583360",
   "metadata": {},
   "outputs": [],
   "source": [
    "df_data.drop(columns=[\"ID\"],inplace=True)"
   ]
  },
  {
   "cell_type": "code",
   "execution_count": 6,
   "id": "f8fc8465-4686-4835-8e93-94606839627f",
   "metadata": {},
   "outputs": [
    {
     "data": {
      "text/plain": [
       "City_Code                      0\n",
       "Region_Code                    0\n",
       "Accomodation_Type              0\n",
       "Reco_Insurance_Type            0\n",
       "Upper_Age                      0\n",
       "Lower_Age                      0\n",
       "Is_Spouse                      0\n",
       "Health Indicator           11691\n",
       "Holding_Policy_Duration    20251\n",
       "Holding_Policy_Type        20251\n",
       "Reco_Policy_Cat                0\n",
       "Reco_Policy_Premium            0\n",
       "Response                       0\n",
       "dtype: int64"
      ]
     },
     "execution_count": 6,
     "metadata": {},
     "output_type": "execute_result"
    }
   ],
   "source": [
    "df_data.isnull().sum()"
   ]
  },
  {
   "cell_type": "code",
   "execution_count": 7,
   "id": "e8f03966-6644-4f66-b135-2c601509af26",
   "metadata": {},
   "outputs": [
    {
     "data": {
      "text/plain": [
       "0"
      ]
     },
     "execution_count": 7,
     "metadata": {},
     "output_type": "execute_result"
    }
   ],
   "source": [
    "df_data.duplicated().values.sum()"
   ]
  },
  {
   "cell_type": "code",
   "execution_count": 8,
   "id": "2e392c84-1901-450a-839f-b4a9d0daa355",
   "metadata": {},
   "outputs": [
    {
     "data": {
      "text/plain": [
       "Holding_Policy_Duration\n",
       "1.0     4499\n",
       "2.0     4260\n",
       "3.0     3586\n",
       "4.0     2771\n",
       "5.0     2362\n",
       "6.0     1894\n",
       "7.0     1645\n",
       "8.0     1316\n",
       "9.0     1114\n",
       "10.0     813\n",
       "11.0     546\n",
       "12.0     513\n",
       "13.0     511\n",
       "14.0     466\n",
       "15.0    4335\n",
       "dtype: int64"
      ]
     },
     "execution_count": 8,
     "metadata": {},
     "output_type": "execute_result"
    }
   ],
   "source": [
    "hold_poli = df_data.groupby(\"Holding_Policy_Duration\").size()\n",
    "hold_poli"
   ]
  },
  {
   "cell_type": "code",
   "execution_count": 9,
   "id": "b3203601-d66b-4d34-ab8e-6d3e930d722e",
   "metadata": {},
   "outputs": [
    {
     "data": {
      "text/plain": [
       "<AxesSubplot:xlabel='Holding_Policy_Duration'>"
      ]
     },
     "execution_count": 9,
     "metadata": {},
     "output_type": "execute_result"
    },
    {
     "data": {
      "image/png": "[encoded data removed]",
      "text/plain": [
       "<Figure size 640x480 with 1 Axes>"
      ]
     },
     "metadata": {},
     "output_type": "display_data"
    }
   ],
   "source": [
    "hold_poli.plot.bar(color=\"gray\")"
   ]
  },
  {
   "cell_type": "code",
   "execution_count": 10,
   "id": "23de980e-5b13-4978-b2e9-bc19ec7471c0",
   "metadata": {},
   "outputs": [
    {
     "data": {
      "text/plain": [
       "Holding_Policy_Type\n",
       "1.0     8173\n",
       "2.0     5005\n",
       "3.0    13279\n",
       "4.0     4174\n",
       "dtype: int64"
      ]
     },
     "execution_count": 10,
     "metadata": {},
     "output_type": "execute_result"
    }
   ],
   "source": [
    "holding_tp =  df_data.groupby(\"Holding_Policy_Type\").size()\n",
    "holding_tp"
   ]
  },
  {
   "cell_type": "code",
   "execution_count": 11,
   "id": "6954fd3e-d28a-42ed-8e17-a762098a5031",
   "metadata": {},
   "outputs": [
    {
     "data": {
      "text/plain": [
       "<AxesSubplot:xlabel='Holding_Policy_Type'>"
      ]
     },
     "execution_count": 11,
     "metadata": {},
     "output_type": "execute_result"
    },
    {
     "data": {
      "image/png": "[encoded data removed]",
      "text/plain": [
       "<Figure size 640x480 with 1 Axes>"
      ]
     },
     "metadata": {},
     "output_type": "display_data"
    }
   ],
   "source": [
    "holding_tp.plot.bar(color=\"gray\")"
   ]
  },
  {
   "cell_type": "code",
   "execution_count": 12,
   "id": "ed476c23-e8be-4910-8567-f2d3ce73cd49",
   "metadata": {},
   "outputs": [
    {
     "data": {
      "text/html": [
       "<div>\n",
       "<style scoped>\n",
       "    .dataframe tbody tr th:only-of-type {\n",
       "        vertical-align: middle;\n",
       "    }\n",
       "\n",
       "    .dataframe tbody tr th {\n",
       "        vertical-align: top;\n",
       "    }\n",
       "\n",
       "    .dataframe thead th {\n",
       "        text-align: right;\n",
       "    }\n",
       "</style>\n",
       "<table border=\"1\" class=\"dataframe\">\n",
       "  <thead>\n",
       "    <tr style=\"text-align: right;\">\n",
       "      <th></th>\n",
       "      <th>City_Code</th>\n",
       "      <th>Region_Code</th>\n",
       "      <th>Accomodation_Type</th>\n",
       "      <th>Reco_Insurance_Type</th>\n",
       "      <th>Upper_Age</th>\n",
       "      <th>Lower_Age</th>\n",
       "      <th>Is_Spouse</th>\n",
       "      <th>Health Indicator</th>\n",
       "      <th>Holding_Policy_Duration</th>\n",
       "      <th>Holding_Policy_Type</th>\n",
       "      <th>Reco_Policy_Cat</th>\n",
       "      <th>Reco_Policy_Premium</th>\n",
       "      <th>Response</th>\n",
       "    </tr>\n",
       "  </thead>\n",
       "  <tbody>\n",
       "    <tr>\n",
       "      <th>0</th>\n",
       "      <td>C3</td>\n",
       "      <td>3213</td>\n",
       "      <td>Rented</td>\n",
       "      <td>Individual</td>\n",
       "      <td>36</td>\n",
       "      <td>36</td>\n",
       "      <td>No</td>\n",
       "      <td>X1</td>\n",
       "      <td>15.0</td>\n",
       "      <td>3.0</td>\n",
       "      <td>22</td>\n",
       "      <td>11628.0</td>\n",
       "      <td>0</td>\n",
       "    </tr>\n",
       "    <tr>\n",
       "      <th>1</th>\n",
       "      <td>C5</td>\n",
       "      <td>1117</td>\n",
       "      <td>Owned</td>\n",
       "      <td>Joint</td>\n",
       "      <td>75</td>\n",
       "      <td>22</td>\n",
       "      <td>No</td>\n",
       "      <td>X2</td>\n",
       "      <td>NaN</td>\n",
       "      <td>NaN</td>\n",
       "      <td>22</td>\n",
       "      <td>30510.0</td>\n",
       "      <td>0</td>\n",
       "    </tr>\n",
       "    <tr>\n",
       "      <th>2</th>\n",
       "      <td>C5</td>\n",
       "      <td>3732</td>\n",
       "      <td>Owned</td>\n",
       "      <td>Individual</td>\n",
       "      <td>32</td>\n",
       "      <td>32</td>\n",
       "      <td>No</td>\n",
       "      <td>NaN</td>\n",
       "      <td>1.0</td>\n",
       "      <td>1.0</td>\n",
       "      <td>19</td>\n",
       "      <td>7450.0</td>\n",
       "      <td>1</td>\n",
       "    </tr>\n",
       "    <tr>\n",
       "      <th>3</th>\n",
       "      <td>C24</td>\n",
       "      <td>4378</td>\n",
       "      <td>Owned</td>\n",
       "      <td>Joint</td>\n",
       "      <td>52</td>\n",
       "      <td>48</td>\n",
       "      <td>No</td>\n",
       "      <td>X1</td>\n",
       "      <td>15.0</td>\n",
       "      <td>3.0</td>\n",
       "      <td>19</td>\n",
       "      <td>17780.0</td>\n",
       "      <td>0</td>\n",
       "    </tr>\n",
       "    <tr>\n",
       "      <th>4</th>\n",
       "      <td>C8</td>\n",
       "      <td>2190</td>\n",
       "      <td>Rented</td>\n",
       "      <td>Individual</td>\n",
       "      <td>44</td>\n",
       "      <td>44</td>\n",
       "      <td>No</td>\n",
       "      <td>X2</td>\n",
       "      <td>3.0</td>\n",
       "      <td>1.0</td>\n",
       "      <td>16</td>\n",
       "      <td>10404.0</td>\n",
       "      <td>0</td>\n",
       "    </tr>\n",
       "  </tbody>\n",
       "</table>\n",
       "</div>"
      ],
      "text/plain": [
       "  City_Code  Region_Code Accomodation_Type Reco_Insurance_Type  Upper_Age  \\\n",
       "0        C3         3213            Rented          Individual         36   \n",
       "1        C5         1117             Owned               Joint         75   \n",
       "2        C5         3732             Owned          Individual         32   \n",
       "3       C24         4378             Owned               Joint         52   \n",
       "4        C8         2190            Rented          Individual         44   \n",
       "\n",
       "   Lower_Age Is_Spouse Health Indicator  Holding_Policy_Duration  \\\n",
       "0         36        No               X1                     15.0   \n",
       "1         22        No               X2                      NaN   \n",
       "2         32        No              NaN                      1.0   \n",
       "3         48        No               X1                     15.0   \n",
       "4         44        No               X2                      3.0   \n",
       "\n",
       "   Holding_Policy_Type  Reco_Policy_Cat  Reco_Policy_Premium  Response  \n",
       "0                  3.0               22              11628.0         0  \n",
       "1                  NaN               22              30510.0         0  \n",
       "2                  1.0               19               7450.0         1  \n",
       "3                  3.0               19              17780.0         0  \n",
       "4                  1.0               16              10404.0         0  "
      ]
     },
     "execution_count": 12,
     "metadata": {},
     "output_type": "execute_result"
    }
   ],
   "source": [
    "df_data.head()"
   ]
  },
  {
   "cell_type": "code",
   "execution_count": 13,
   "id": "5f869c84-52fe-4e87-a15e-53b7e02ca9dd",
   "metadata": {},
   "outputs": [
    {
     "data": {
      "text/plain": [
       "Health Indicator\n",
       "X1    13010\n",
       "X2    10332\n",
       "X3     6762\n",
       "X4     5743\n",
       "X5     1727\n",
       "X6     1280\n",
       "X7      196\n",
       "X8       78\n",
       "X9       63\n",
       "dtype: int64"
      ]
     },
     "execution_count": 13,
     "metadata": {},
     "output_type": "execute_result"
    }
   ],
   "source": [
    "hel_indicator = df_data.groupby(\"Health Indicator\").size()\n",
    "hel_indicator"
   ]
  },
  {
   "cell_type": "code",
   "execution_count": 14,
   "id": "0ef8e1ee-91e8-45a2-9371-2e6c94a1f074",
   "metadata": {},
   "outputs": [
    {
     "data": {
      "text/plain": [
       "<AxesSubplot:xlabel='Health Indicator'>"
      ]
     },
     "execution_count": 14,
     "metadata": {},
     "output_type": "execute_result"
    },
    {
     "data": {
      "image/png": "[encoded data removed]",
      "text/plain": [
       "<Figure size 640x480 with 1 Axes>"
      ]
     },
     "metadata": {},
     "output_type": "display_data"
    }
   ],
   "source": [
    "hel_indicator.plot.bar(color=\"gray\")"
   ]
  },
  {
   "cell_type": "code",
   "execution_count": 15,
   "id": "51470b8c-b636-47a8-9861-c8d6efc5ddab",
   "metadata": {},
   "outputs": [
    {
     "data": {
      "text/plain": [
       "Accomodation_Type\n",
       "Owned     27951\n",
       "Rented    22931\n",
       "dtype: int64"
      ]
     },
     "execution_count": 15,
     "metadata": {},
     "output_type": "execute_result"
    }
   ],
   "source": [
    "accomodation = df_data.groupby(\"Accomodation_Type\").size()\n",
    "accomodation"
   ]
  },
  {
   "cell_type": "code",
   "execution_count": 16,
   "id": "f85787bb-3339-4333-a870-dcb4cffca742",
   "metadata": {},
   "outputs": [
    {
     "data": {
      "text/plain": [
       "<AxesSubplot:xlabel='Accomodation_Type'>"
      ]
     },
     "execution_count": 16,
     "metadata": {},
     "output_type": "execute_result"
    },
    {
     "data": {
      "image/png": "[encoded data removed]",
      "text/plain": [
       "<Figure size 640x480 with 1 Axes>"
      ]
     },
     "metadata": {},
     "output_type": "display_data"
    }
   ],
   "source": [
    "accomodation.plot.bar(color=\"gray\")"
   ]
  },
  {
   "cell_type": "code",
   "execution_count": 17,
   "id": "125f7cd4-afeb-4605-aab0-9bb95f914950",
   "metadata": {},
   "outputs": [
    {
     "data": {
      "text/plain": [
       "Reco_Insurance_Type\n",
       "Individual    40536\n",
       "Joint         10346\n",
       "dtype: int64"
      ]
     },
     "execution_count": 17,
     "metadata": {},
     "output_type": "execute_result"
    }
   ],
   "source": [
    "seg_type = df_data.groupby(\"Reco_Insurance_Type\").size()\n",
    "seg_type"
   ]
  },
  {
   "cell_type": "code",
   "execution_count": 18,
   "id": "03b182a2-1f12-4ca1-a15a-b9f75cc52b7b",
   "metadata": {},
   "outputs": [
    {
     "data": {
      "text/plain": [
       "<AxesSubplot:xlabel='Reco_Insurance_Type'>"
      ]
     },
     "execution_count": 18,
     "metadata": {},
     "output_type": "execute_result"
    },
    {
     "data": {
      "image/png": "[encoded data removed]",
      "text/plain": [
       "<Figure size 640x480 with 1 Axes>"
      ]
     },
     "metadata": {},
     "output_type": "display_data"
    }
   ],
   "source": [
    "seg_type.plot.bar(color=\"gray\")"
   ]
  },
  {
   "cell_type": "code",
   "execution_count": 19,
   "id": "83b4f901-6096-4cb5-af66-06af7a5e7f69",
   "metadata": {},
   "outputs": [
    {
     "data": {
      "text/plain": [
       "Is_Spouse\n",
       "No     42460\n",
       "Yes     8422\n",
       "dtype: int64"
      ]
     },
     "execution_count": 19,
     "metadata": {},
     "output_type": "execute_result"
    }
   ],
   "source": [
    "conjuge = df_data.groupby(\"Is_Spouse\").size()\n",
    "conjuge"
   ]
  },
  {
   "cell_type": "code",
   "execution_count": 20,
   "id": "a6a08101-486a-4a1c-b16d-8c25b55dd76b",
   "metadata": {},
   "outputs": [
    {
     "data": {
      "text/plain": [
       "<AxesSubplot:xlabel='Is_Spouse'>"
      ]
     },
     "execution_count": 20,
     "metadata": {},
     "output_type": "execute_result"
    },
    {
     "data": {
      "image/png": "[encoded data removed]",
      "text/plain": [
       "<Figure size 640x480 with 1 Axes>"
      ]
     },
     "metadata": {},
     "output_type": "display_data"
    }
   ],
   "source": [
    "conjuge.plot.bar(color = \"gray\")"
   ]
  },
  {
   "cell_type": "code",
   "execution_count": 21,
   "id": "71a76704-eadb-4455-9cfa-7c10bd5b5431",
   "metadata": {},
   "outputs": [
    {
     "data": {
      "text/html": [
       "<div>\n",
       "<style scoped>\n",
       "    .dataframe tbody tr th:only-of-type {\n",
       "        vertical-align: middle;\n",
       "    }\n",
       "\n",
       "    .dataframe tbody tr th {\n",
       "        vertical-align: top;\n",
       "    }\n",
       "\n",
       "    .dataframe thead th {\n",
       "        text-align: right;\n",
       "    }\n",
       "</style>\n",
       "<table border=\"1\" class=\"dataframe\">\n",
       "  <thead>\n",
       "    <tr style=\"text-align: right;\">\n",
       "      <th></th>\n",
       "      <th>City_Code</th>\n",
       "      <th>Region_Code</th>\n",
       "      <th>Accomodation_Type</th>\n",
       "      <th>Reco_Insurance_Type</th>\n",
       "      <th>Upper_Age</th>\n",
       "      <th>Lower_Age</th>\n",
       "      <th>Is_Spouse</th>\n",
       "      <th>Health Indicator</th>\n",
       "      <th>Holding_Policy_Duration</th>\n",
       "      <th>Holding_Policy_Type</th>\n",
       "      <th>Reco_Policy_Cat</th>\n",
       "      <th>Reco_Policy_Premium</th>\n",
       "      <th>Response</th>\n",
       "    </tr>\n",
       "  </thead>\n",
       "  <tbody>\n",
       "    <tr>\n",
       "      <th>0</th>\n",
       "      <td>C3</td>\n",
       "      <td>3213</td>\n",
       "      <td>Rented</td>\n",
       "      <td>Individual</td>\n",
       "      <td>36</td>\n",
       "      <td>36</td>\n",
       "      <td>No</td>\n",
       "      <td>X1</td>\n",
       "      <td>15.0</td>\n",
       "      <td>3.0</td>\n",
       "      <td>22</td>\n",
       "      <td>11628.0</td>\n",
       "      <td>0</td>\n",
       "    </tr>\n",
       "    <tr>\n",
       "      <th>1</th>\n",
       "      <td>C5</td>\n",
       "      <td>1117</td>\n",
       "      <td>Owned</td>\n",
       "      <td>Joint</td>\n",
       "      <td>75</td>\n",
       "      <td>22</td>\n",
       "      <td>No</td>\n",
       "      <td>X2</td>\n",
       "      <td>NaN</td>\n",
       "      <td>NaN</td>\n",
       "      <td>22</td>\n",
       "      <td>30510.0</td>\n",
       "      <td>0</td>\n",
       "    </tr>\n",
       "    <tr>\n",
       "      <th>2</th>\n",
       "      <td>C5</td>\n",
       "      <td>3732</td>\n",
       "      <td>Owned</td>\n",
       "      <td>Individual</td>\n",
       "      <td>32</td>\n",
       "      <td>32</td>\n",
       "      <td>No</td>\n",
       "      <td>NaN</td>\n",
       "      <td>1.0</td>\n",
       "      <td>1.0</td>\n",
       "      <td>19</td>\n",
       "      <td>7450.0</td>\n",
       "      <td>1</td>\n",
       "    </tr>\n",
       "    <tr>\n",
       "      <th>3</th>\n",
       "      <td>C24</td>\n",
       "      <td>4378</td>\n",
       "      <td>Owned</td>\n",
       "      <td>Joint</td>\n",
       "      <td>52</td>\n",
       "      <td>48</td>\n",
       "      <td>No</td>\n",
       "      <td>X1</td>\n",
       "      <td>15.0</td>\n",
       "      <td>3.0</td>\n",
       "      <td>19</td>\n",
       "      <td>17780.0</td>\n",
       "      <td>0</td>\n",
       "    </tr>\n",
       "    <tr>\n",
       "      <th>4</th>\n",
       "      <td>C8</td>\n",
       "      <td>2190</td>\n",
       "      <td>Rented</td>\n",
       "      <td>Individual</td>\n",
       "      <td>44</td>\n",
       "      <td>44</td>\n",
       "      <td>No</td>\n",
       "      <td>X2</td>\n",
       "      <td>3.0</td>\n",
       "      <td>1.0</td>\n",
       "      <td>16</td>\n",
       "      <td>10404.0</td>\n",
       "      <td>0</td>\n",
       "    </tr>\n",
       "  </tbody>\n",
       "</table>\n",
       "</div>"
      ],
      "text/plain": [
       "  City_Code  Region_Code Accomodation_Type Reco_Insurance_Type  Upper_Age  \\\n",
       "0        C3         3213            Rented          Individual         36   \n",
       "1        C5         1117             Owned               Joint         75   \n",
       "2        C5         3732             Owned          Individual         32   \n",
       "3       C24         4378             Owned               Joint         52   \n",
       "4        C8         2190            Rented          Individual         44   \n",
       "\n",
       "   Lower_Age Is_Spouse Health Indicator  Holding_Policy_Duration  \\\n",
       "0         36        No               X1                     15.0   \n",
       "1         22        No               X2                      NaN   \n",
       "2         32        No              NaN                      1.0   \n",
       "3         48        No               X1                     15.0   \n",
       "4         44        No               X2                      3.0   \n",
       "\n",
       "   Holding_Policy_Type  Reco_Policy_Cat  Reco_Policy_Premium  Response  \n",
       "0                  3.0               22              11628.0         0  \n",
       "1                  NaN               22              30510.0         0  \n",
       "2                  1.0               19               7450.0         1  \n",
       "3                  3.0               19              17780.0         0  \n",
       "4                  1.0               16              10404.0         0  "
      ]
     },
     "execution_count": 21,
     "metadata": {},
     "output_type": "execute_result"
    }
   ],
   "source": [
    "df_data.head()"
   ]
  },
  {
   "cell_type": "code",
   "execution_count": 22,
   "id": "05f5ac44-b482-4cf0-8e16-6b5085cbbef0",
   "metadata": {},
   "outputs": [
    {
     "data": {
      "text/plain": [
       "count    50882.000000\n",
       "mean     14183.950069\n",
       "std       6590.074873\n",
       "min       2280.000000\n",
       "25%       9248.000000\n",
       "50%      13178.000000\n",
       "75%      18096.000000\n",
       "max      43350.400000\n",
       "Name: Reco_Policy_Premium, dtype: float64"
      ]
     },
     "execution_count": 22,
     "metadata": {},
     "output_type": "execute_result"
    }
   ],
   "source": [
    "df_data.Reco_Policy_Premium.describe()"
   ]
  },
  {
   "cell_type": "code",
   "execution_count": 64,
   "id": "adf53c3a-2f6d-4309-a44d-198e1eaa86ac",
   "metadata": {},
   "outputs": [
    {
     "data": {
      "text/plain": [
       "<AxesSubplot:>"
      ]
     },
     "execution_count": 64,
     "metadata": {},
     "output_type": "execute_result"
    },
    {
     "data": {
      "image/png": "[encoded data removed]",
      "text/plain": [
       "<Figure size 640x480 with 1 Axes>"
      ]
     },
     "metadata": {},
     "output_type": "display_data"
    }
   ],
   "source": [
    "srn.boxplot(df_data.Reco_Policy_Premium)"
   ]
  },
  {
   "cell_type": "code",
   "execution_count": 24,
   "id": "bfc52af8-c2be-4981-a2cf-4a84912261c6",
   "metadata": {},
   "outputs": [],
   "source": [
    "media = df_data.Reco_Policy_Premium.mean()"
   ]
  },
  {
   "cell_type": "code",
   "execution_count": 25,
   "id": "68f0e558-1d7c-43fa-bb6c-a056c13f99b6",
   "metadata": {},
   "outputs": [
    {
     "data": {
      "text/plain": [
       "6590.010114752189"
      ]
     },
     "execution_count": 25,
     "metadata": {},
     "output_type": "execute_result"
    }
   ],
   "source": [
    "from statistics import pstdev\n",
    "desvio = pstdev(df_data.Reco_Policy_Premium)\n",
    "desvio"
   ]
  },
  {
   "cell_type": "code",
   "execution_count": 26,
   "id": "eaf4b6c2-944c-4659-9730-7df3e52fbb4d",
   "metadata": {},
   "outputs": [],
   "source": [
    "df_data.Reco_Policy_Premium = np.log(df_data.Reco_Policy_Premium)"
   ]
  },
  {
   "cell_type": "code",
   "execution_count": 27,
   "id": "c3741141-6e11-4cca-8089-bf2af55640e6",
   "metadata": {},
   "outputs": [],
   "source": [
    "# df_data.loc[df_data.Reco_Policy_Premium >= (3 * desvio), \"Reco_Policy_Premium\"] = media"
   ]
  },
  {
   "cell_type": "code",
   "execution_count": 28,
   "id": "82fc9e56-6098-4727-ac5b-6a75461b2251",
   "metadata": {},
   "outputs": [
    {
     "data": {
      "text/plain": [
       "<AxesSubplot:xlabel='Reco_Policy_Premium', ylabel='Count'>"
      ]
     },
     "execution_count": 28,
     "metadata": {},
     "output_type": "execute_result"
    },
    {
     "data": {
      "image/png": "[encoded data removed]",
      "text/plain": [
       "<Figure size 640x480 with 1 Axes>"
      ]
     },
     "metadata": {},
     "output_type": "display_data"
    }
   ],
   "source": [
    "srn.histplot(df_data.Reco_Policy_Premium)"
   ]
  },
  {
   "cell_type": "code",
   "execution_count": 29,
   "id": "8af16ea8-1f00-46e6-bca3-03df8b5ea833",
   "metadata": {},
   "outputs": [
    {
     "data": {
      "text/plain": [
       "Response\n",
       "0    38673\n",
       "1    12209\n",
       "dtype: int64"
      ]
     },
     "execution_count": 29,
     "metadata": {},
     "output_type": "execute_result"
    }
   ],
   "source": [
    "response = df_data.groupby(\"Response\").size()\n",
    "response"
   ]
  },
  {
   "cell_type": "code",
   "execution_count": 31,
   "id": "a0202e8e-2a30-4b2f-b5c7-8177c2a0cb0a",
   "metadata": {},
   "outputs": [
    {
     "data": {
      "text/plain": [
       "<AxesSubplot:>"
      ]
     },
     "execution_count": 31,
     "metadata": {},
     "output_type": "execute_result"
    },
    {
     "data": {
      "image/png": "[encoded data removed]",
      "text/plain": [
       "<Figure size 640x480 with 1 Axes>"
      ]
     },
     "metadata": {},
     "output_type": "display_data"
    }
   ],
   "source": [
    "srn.boxplot(df_data.Reco_Policy_Premium)"
   ]
  },
  {
   "cell_type": "code",
   "execution_count": 30,
   "id": "baaf662c-19ec-42f6-bfb1-4e7304cbe2e0",
   "metadata": {},
   "outputs": [
    {
     "data": {
      "text/plain": [
       "<AxesSubplot:xlabel='Response'>"
      ]
     },
     "execution_count": 30,
     "metadata": {},
     "output_type": "execute_result"
    },
    {
     "data": {
      "image/png": "[encoded data removed]",
      "text/plain": [
       "<Figure size 640x480 with 1 Axes>"
      ]
     },
     "metadata": {},
     "output_type": "display_data"
    }
   ],
   "source": [
    "response.plot.bar(color=\"gray\")"
   ]
  },
  {
   "cell_type": "code",
   "execution_count": 32,
   "id": "a66a3a9d-b971-4bfe-ae94-29e6405b6b82",
   "metadata": {},
   "outputs": [
    {
     "data": {
      "text/html": [
       "<div>\n",
       "<style scoped>\n",
       "    .dataframe tbody tr th:only-of-type {\n",
       "        vertical-align: middle;\n",
       "    }\n",
       "\n",
       "    .dataframe tbody tr th {\n",
       "        vertical-align: top;\n",
       "    }\n",
       "\n",
       "    .dataframe thead th {\n",
       "        text-align: right;\n",
       "    }\n",
       "</style>\n",
       "<table border=\"1\" class=\"dataframe\">\n",
       "  <thead>\n",
       "    <tr style=\"text-align: right;\">\n",
       "      <th></th>\n",
       "      <th>City_Code</th>\n",
       "      <th>Region_Code</th>\n",
       "      <th>Accomodation_Type</th>\n",
       "      <th>Reco_Insurance_Type</th>\n",
       "      <th>Upper_Age</th>\n",
       "      <th>Lower_Age</th>\n",
       "      <th>Is_Spouse</th>\n",
       "      <th>Health Indicator</th>\n",
       "      <th>Holding_Policy_Duration</th>\n",
       "      <th>Holding_Policy_Type</th>\n",
       "      <th>Reco_Policy_Cat</th>\n",
       "      <th>Reco_Policy_Premium</th>\n",
       "      <th>Response</th>\n",
       "    </tr>\n",
       "  </thead>\n",
       "  <tbody>\n",
       "    <tr>\n",
       "      <th>0</th>\n",
       "      <td>C3</td>\n",
       "      <td>3213</td>\n",
       "      <td>Rented</td>\n",
       "      <td>Individual</td>\n",
       "      <td>36</td>\n",
       "      <td>36</td>\n",
       "      <td>No</td>\n",
       "      <td>X1</td>\n",
       "      <td>15.0</td>\n",
       "      <td>3.0</td>\n",
       "      <td>22</td>\n",
       "      <td>9.361171</td>\n",
       "      <td>0</td>\n",
       "    </tr>\n",
       "    <tr>\n",
       "      <th>1</th>\n",
       "      <td>C5</td>\n",
       "      <td>1117</td>\n",
       "      <td>Owned</td>\n",
       "      <td>Joint</td>\n",
       "      <td>75</td>\n",
       "      <td>22</td>\n",
       "      <td>No</td>\n",
       "      <td>X2</td>\n",
       "      <td>NaN</td>\n",
       "      <td>NaN</td>\n",
       "      <td>22</td>\n",
       "      <td>10.325810</td>\n",
       "      <td>0</td>\n",
       "    </tr>\n",
       "    <tr>\n",
       "      <th>2</th>\n",
       "      <td>C5</td>\n",
       "      <td>3732</td>\n",
       "      <td>Owned</td>\n",
       "      <td>Individual</td>\n",
       "      <td>32</td>\n",
       "      <td>32</td>\n",
       "      <td>No</td>\n",
       "      <td>NaN</td>\n",
       "      <td>1.0</td>\n",
       "      <td>1.0</td>\n",
       "      <td>19</td>\n",
       "      <td>8.915969</td>\n",
       "      <td>1</td>\n",
       "    </tr>\n",
       "    <tr>\n",
       "      <th>3</th>\n",
       "      <td>C24</td>\n",
       "      <td>4378</td>\n",
       "      <td>Owned</td>\n",
       "      <td>Joint</td>\n",
       "      <td>52</td>\n",
       "      <td>48</td>\n",
       "      <td>No</td>\n",
       "      <td>X1</td>\n",
       "      <td>15.0</td>\n",
       "      <td>3.0</td>\n",
       "      <td>19</td>\n",
       "      <td>9.785830</td>\n",
       "      <td>0</td>\n",
       "    </tr>\n",
       "    <tr>\n",
       "      <th>4</th>\n",
       "      <td>C8</td>\n",
       "      <td>2190</td>\n",
       "      <td>Rented</td>\n",
       "      <td>Individual</td>\n",
       "      <td>44</td>\n",
       "      <td>44</td>\n",
       "      <td>No</td>\n",
       "      <td>X2</td>\n",
       "      <td>3.0</td>\n",
       "      <td>1.0</td>\n",
       "      <td>16</td>\n",
       "      <td>9.249946</td>\n",
       "      <td>0</td>\n",
       "    </tr>\n",
       "  </tbody>\n",
       "</table>\n",
       "</div>"
      ],
      "text/plain": [
       "  City_Code  Region_Code Accomodation_Type Reco_Insurance_Type  Upper_Age  \\\n",
       "0        C3         3213            Rented          Individual         36   \n",
       "1        C5         1117             Owned               Joint         75   \n",
       "2        C5         3732             Owned          Individual         32   \n",
       "3       C24         4378             Owned               Joint         52   \n",
       "4        C8         2190            Rented          Individual         44   \n",
       "\n",
       "   Lower_Age Is_Spouse Health Indicator  Holding_Policy_Duration  \\\n",
       "0         36        No               X1                     15.0   \n",
       "1         22        No               X2                      NaN   \n",
       "2         32        No              NaN                      1.0   \n",
       "3         48        No               X1                     15.0   \n",
       "4         44        No               X2                      3.0   \n",
       "\n",
       "   Holding_Policy_Type  Reco_Policy_Cat  Reco_Policy_Premium  Response  \n",
       "0                  3.0               22             9.361171         0  \n",
       "1                  NaN               22            10.325810         0  \n",
       "2                  1.0               19             8.915969         1  \n",
       "3                  3.0               19             9.785830         0  \n",
       "4                  1.0               16             9.249946         0  "
      ]
     },
     "execution_count": 32,
     "metadata": {},
     "output_type": "execute_result"
    }
   ],
   "source": [
    "df_data.head()"
   ]
  },
  {
   "cell_type": "code",
   "execution_count": 33,
   "id": "96dde198-3a4c-4487-954b-2c55975507cd",
   "metadata": {},
   "outputs": [
    {
     "data": {
      "text/plain": [
       "count    50882.000000\n",
       "mean        42.738866\n",
       "std         17.319375\n",
       "min         16.000000\n",
       "25%         27.000000\n",
       "50%         40.000000\n",
       "75%         57.000000\n",
       "max         75.000000\n",
       "Name: Lower_Age, dtype: float64"
      ]
     },
     "execution_count": 33,
     "metadata": {},
     "output_type": "execute_result"
    }
   ],
   "source": [
    "df_data.Lower_Age.describe()"
   ]
  },
  {
   "cell_type": "code",
   "execution_count": 34,
   "id": "331d327e-bf33-4759-bdda-9bbd77999453",
   "metadata": {},
   "outputs": [
    {
     "data": {
      "text/plain": [
       "<AxesSubplot:>"
      ]
     },
     "execution_count": 34,
     "metadata": {},
     "output_type": "execute_result"
    },
    {
     "data": {
      "image/png": "[encoded data removed]",
      "text/plain": [
       "<Figure size 640x480 with 1 Axes>"
      ]
     },
     "metadata": {},
     "output_type": "display_data"
    }
   ],
   "source": [
    "srn.boxplot(df_data.Lower_Age)"
   ]
  },
  {
   "cell_type": "code",
   "execution_count": 35,
   "id": "5f004ba2-769b-4678-9a95-362583f0a98e",
   "metadata": {},
   "outputs": [
    {
     "data": {
      "text/plain": [
       "count    50882.000000\n",
       "mean        44.856275\n",
       "std         17.310271\n",
       "min         18.000000\n",
       "25%         28.000000\n",
       "50%         44.000000\n",
       "75%         59.000000\n",
       "max         75.000000\n",
       "Name: Upper_Age, dtype: float64"
      ]
     },
     "execution_count": 35,
     "metadata": {},
     "output_type": "execute_result"
    }
   ],
   "source": [
    "df_data.Upper_Age.describe()"
   ]
  },
  {
   "cell_type": "code",
   "execution_count": 36,
   "id": "bd6e7c76-b349-493f-82fe-fcf5b7235c13",
   "metadata": {},
   "outputs": [
    {
     "data": {
      "text/plain": [
       "<AxesSubplot:>"
      ]
     },
     "execution_count": 36,
     "metadata": {},
     "output_type": "execute_result"
    },
    {
     "data": {
      "image/png": "[encoded data removed]",
      "text/plain": [
       "<Figure size 640x480 with 1 Axes>"
      ]
     },
     "metadata": {},
     "output_type": "display_data"
    }
   ],
   "source": [
    "srn.boxplot(df_data.Upper_Age)"
   ]
  },
  {
   "cell_type": "code",
   "execution_count": 37,
   "id": "6d8a5a53-e46c-45a6-bebb-8986752d4860",
   "metadata": {},
   "outputs": [
    {
     "data": {
      "text/plain": [
       "count    50882.000000\n",
       "mean        15.115188\n",
       "std          6.340663\n",
       "min          1.000000\n",
       "25%         12.000000\n",
       "50%         17.000000\n",
       "75%         20.000000\n",
       "max         22.000000\n",
       "Name: Reco_Policy_Cat, dtype: float64"
      ]
     },
     "execution_count": 37,
     "metadata": {},
     "output_type": "execute_result"
    }
   ],
   "source": [
    "df_data.Reco_Policy_Cat.describe()"
   ]
  },
  {
   "cell_type": "code",
   "execution_count": 38,
   "id": "7cfe977f-fa64-4b88-b711-80698bc11eef",
   "metadata": {},
   "outputs": [
    {
     "data": {
      "text/plain": [
       "<AxesSubplot:>"
      ]
     },
     "execution_count": 38,
     "metadata": {},
     "output_type": "execute_result"
    },
    {
     "data": {
      "image/png": "[encoded data removed]",
      "text/plain": [
       "<Figure size 640x480 with 1 Axes>"
      ]
     },
     "metadata": {},
     "output_type": "display_data"
    }
   ],
   "source": [
    "srn.boxplot(df_data.Reco_Policy_Cat)"
   ]
  },
  {
   "cell_type": "code",
   "execution_count": 39,
   "id": "5595ddf6-5750-4811-9ac0-14a7a6dbdfff",
   "metadata": {},
   "outputs": [
    {
     "data": {
      "text/html": [
       "<div>\n",
       "<style scoped>\n",
       "    .dataframe tbody tr th:only-of-type {\n",
       "        vertical-align: middle;\n",
       "    }\n",
       "\n",
       "    .dataframe tbody tr th {\n",
       "        vertical-align: top;\n",
       "    }\n",
       "\n",
       "    .dataframe thead th {\n",
       "        text-align: right;\n",
       "    }\n",
       "</style>\n",
       "<table border=\"1\" class=\"dataframe\">\n",
       "  <thead>\n",
       "    <tr style=\"text-align: right;\">\n",
       "      <th></th>\n",
       "      <th>City_Code</th>\n",
       "      <th>Region_Code</th>\n",
       "      <th>Accomodation_Type</th>\n",
       "      <th>Reco_Insurance_Type</th>\n",
       "      <th>Upper_Age</th>\n",
       "      <th>Lower_Age</th>\n",
       "      <th>Is_Spouse</th>\n",
       "      <th>Health Indicator</th>\n",
       "      <th>Holding_Policy_Duration</th>\n",
       "      <th>Holding_Policy_Type</th>\n",
       "      <th>Reco_Policy_Cat</th>\n",
       "      <th>Reco_Policy_Premium</th>\n",
       "      <th>Response</th>\n",
       "    </tr>\n",
       "  </thead>\n",
       "  <tbody>\n",
       "    <tr>\n",
       "      <th>0</th>\n",
       "      <td>C3</td>\n",
       "      <td>3213</td>\n",
       "      <td>Rented</td>\n",
       "      <td>Individual</td>\n",
       "      <td>36</td>\n",
       "      <td>36</td>\n",
       "      <td>No</td>\n",
       "      <td>X1</td>\n",
       "      <td>15.0</td>\n",
       "      <td>3.0</td>\n",
       "      <td>22</td>\n",
       "      <td>9.361171</td>\n",
       "      <td>0</td>\n",
       "    </tr>\n",
       "    <tr>\n",
       "      <th>1</th>\n",
       "      <td>C5</td>\n",
       "      <td>1117</td>\n",
       "      <td>Owned</td>\n",
       "      <td>Joint</td>\n",
       "      <td>75</td>\n",
       "      <td>22</td>\n",
       "      <td>No</td>\n",
       "      <td>X2</td>\n",
       "      <td>NaN</td>\n",
       "      <td>NaN</td>\n",
       "      <td>22</td>\n",
       "      <td>10.325810</td>\n",
       "      <td>0</td>\n",
       "    </tr>\n",
       "    <tr>\n",
       "      <th>2</th>\n",
       "      <td>C5</td>\n",
       "      <td>3732</td>\n",
       "      <td>Owned</td>\n",
       "      <td>Individual</td>\n",
       "      <td>32</td>\n",
       "      <td>32</td>\n",
       "      <td>No</td>\n",
       "      <td>NaN</td>\n",
       "      <td>1.0</td>\n",
       "      <td>1.0</td>\n",
       "      <td>19</td>\n",
       "      <td>8.915969</td>\n",
       "      <td>1</td>\n",
       "    </tr>\n",
       "    <tr>\n",
       "      <th>3</th>\n",
       "      <td>C24</td>\n",
       "      <td>4378</td>\n",
       "      <td>Owned</td>\n",
       "      <td>Joint</td>\n",
       "      <td>52</td>\n",
       "      <td>48</td>\n",
       "      <td>No</td>\n",
       "      <td>X1</td>\n",
       "      <td>15.0</td>\n",
       "      <td>3.0</td>\n",
       "      <td>19</td>\n",
       "      <td>9.785830</td>\n",
       "      <td>0</td>\n",
       "    </tr>\n",
       "    <tr>\n",
       "      <th>4</th>\n",
       "      <td>C8</td>\n",
       "      <td>2190</td>\n",
       "      <td>Rented</td>\n",
       "      <td>Individual</td>\n",
       "      <td>44</td>\n",
       "      <td>44</td>\n",
       "      <td>No</td>\n",
       "      <td>X2</td>\n",
       "      <td>3.0</td>\n",
       "      <td>1.0</td>\n",
       "      <td>16</td>\n",
       "      <td>9.249946</td>\n",
       "      <td>0</td>\n",
       "    </tr>\n",
       "    <tr>\n",
       "      <th>...</th>\n",
       "      <td>...</td>\n",
       "      <td>...</td>\n",
       "      <td>...</td>\n",
       "      <td>...</td>\n",
       "      <td>...</td>\n",
       "      <td>...</td>\n",
       "      <td>...</td>\n",
       "      <td>...</td>\n",
       "      <td>...</td>\n",
       "      <td>...</td>\n",
       "      <td>...</td>\n",
       "      <td>...</td>\n",
       "      <td>...</td>\n",
       "    </tr>\n",
       "    <tr>\n",
       "      <th>50877</th>\n",
       "      <td>C4</td>\n",
       "      <td>845</td>\n",
       "      <td>Rented</td>\n",
       "      <td>Individual</td>\n",
       "      <td>22</td>\n",
       "      <td>22</td>\n",
       "      <td>No</td>\n",
       "      <td>X3</td>\n",
       "      <td>NaN</td>\n",
       "      <td>NaN</td>\n",
       "      <td>18</td>\n",
       "      <td>8.949495</td>\n",
       "      <td>0</td>\n",
       "    </tr>\n",
       "    <tr>\n",
       "      <th>50878</th>\n",
       "      <td>C5</td>\n",
       "      <td>4188</td>\n",
       "      <td>Rented</td>\n",
       "      <td>Individual</td>\n",
       "      <td>27</td>\n",
       "      <td>27</td>\n",
       "      <td>No</td>\n",
       "      <td>X3</td>\n",
       "      <td>7.0</td>\n",
       "      <td>3.0</td>\n",
       "      <td>4</td>\n",
       "      <td>8.595635</td>\n",
       "      <td>0</td>\n",
       "    </tr>\n",
       "    <tr>\n",
       "      <th>50879</th>\n",
       "      <td>C1</td>\n",
       "      <td>442</td>\n",
       "      <td>Rented</td>\n",
       "      <td>Individual</td>\n",
       "      <td>63</td>\n",
       "      <td>63</td>\n",
       "      <td>No</td>\n",
       "      <td>X2</td>\n",
       "      <td>15.0</td>\n",
       "      <td>1.0</td>\n",
       "      <td>12</td>\n",
       "      <td>9.339085</td>\n",
       "      <td>0</td>\n",
       "    </tr>\n",
       "    <tr>\n",
       "      <th>50880</th>\n",
       "      <td>C1</td>\n",
       "      <td>4</td>\n",
       "      <td>Owned</td>\n",
       "      <td>Joint</td>\n",
       "      <td>71</td>\n",
       "      <td>49</td>\n",
       "      <td>No</td>\n",
       "      <td>X2</td>\n",
       "      <td>2.0</td>\n",
       "      <td>2.0</td>\n",
       "      <td>16</td>\n",
       "      <td>10.246339</td>\n",
       "      <td>1</td>\n",
       "    </tr>\n",
       "    <tr>\n",
       "      <th>50881</th>\n",
       "      <td>C3</td>\n",
       "      <td>3866</td>\n",
       "      <td>Rented</td>\n",
       "      <td>Individual</td>\n",
       "      <td>24</td>\n",
       "      <td>24</td>\n",
       "      <td>No</td>\n",
       "      <td>X3</td>\n",
       "      <td>2.0</td>\n",
       "      <td>3.0</td>\n",
       "      <td>18</td>\n",
       "      <td>9.343472</td>\n",
       "      <td>0</td>\n",
       "    </tr>\n",
       "  </tbody>\n",
       "</table>\n",
       "<p>50882 rows × 13 columns</p>\n",
       "</div>"
      ],
      "text/plain": [
       "      City_Code  Region_Code Accomodation_Type Reco_Insurance_Type  Upper_Age  \\\n",
       "0            C3         3213            Rented          Individual         36   \n",
       "1            C5         1117             Owned               Joint         75   \n",
       "2            C5         3732             Owned          Individual         32   \n",
       "3           C24         4378             Owned               Joint         52   \n",
       "4            C8         2190            Rented          Individual         44   \n",
       "...         ...          ...               ...                 ...        ...   \n",
       "50877        C4          845            Rented          Individual         22   \n",
       "50878        C5         4188            Rented          Individual         27   \n",
       "50879        C1          442            Rented          Individual         63   \n",
       "50880        C1            4             Owned               Joint         71   \n",
       "50881        C3         3866            Rented          Individual         24   \n",
       "\n",
       "       Lower_Age Is_Spouse Health Indicator  Holding_Policy_Duration  \\\n",
       "0             36        No               X1                     15.0   \n",
       "1             22        No               X2                      NaN   \n",
       "2             32        No              NaN                      1.0   \n",
       "3             48        No               X1                     15.0   \n",
       "4             44        No               X2                      3.0   \n",
       "...          ...       ...              ...                      ...   \n",
       "50877         22        No               X3                      NaN   \n",
       "50878         27        No               X3                      7.0   \n",
       "50879         63        No               X2                     15.0   \n",
       "50880         49        No               X2                      2.0   \n",
       "50881         24        No               X3                      2.0   \n",
       "\n",
       "       Holding_Policy_Type  Reco_Policy_Cat  Reco_Policy_Premium  Response  \n",
       "0                      3.0               22             9.361171         0  \n",
       "1                      NaN               22            10.325810         0  \n",
       "2                      1.0               19             8.915969         1  \n",
       "3                      3.0               19             9.785830         0  \n",
       "4                      1.0               16             9.249946         0  \n",
       "...                    ...              ...                  ...       ...  \n",
       "50877                  NaN               18             8.949495         0  \n",
       "50878                  3.0                4             8.595635         0  \n",
       "50879                  1.0               12             9.339085         0  \n",
       "50880                  2.0               16            10.246339         1  \n",
       "50881                  3.0               18             9.343472         0  \n",
       "\n",
       "[50882 rows x 13 columns]"
      ]
     },
     "execution_count": 39,
     "metadata": {},
     "output_type": "execute_result"
    }
   ],
   "source": [
    "df_data"
   ]
  },
  {
   "cell_type": "code",
   "execution_count": 132,
   "id": "1f3b62aa-e06d-4fad-8fee-344aefeee5e5",
   "metadata": {},
   "outputs": [],
   "source": [
    "labelencoder = LabelEncoder()\n",
    "df_data[\"City_Code\"] = labelencoder.fit_transform(df_data[\"City_Code\"])\n",
    "df_data[\"Accomodation_Type\"] = labelencoder.fit_transform(df_data[\"Accomodation_Type\"])\n",
    "df_data[\"Reco_Insurance_Type\"] = labelencoder.fit_transform(df_data[\"Reco_Insurance_Type\"])\n",
    "df_data[\"Is_Spouse\"] = labelencoder.fit_transform(df_data[\"Is_Spouse\"])\n",
    "df_data[\"Health Indicator\"] = labelencoder.fit_transform(df_data[\"Health Indicator\"])\n",
    "df_data[\"Holding_Policy_Duration\"] = labelencoder.fit_transform(df_data[\"Holding_Policy_Duration\"])\n",
    "df_data[\"Holding_Policy_Type\"] = labelencoder.fit_transform(df_data[\"Holding_Policy_Type\"])\n",
    "\n",
    "imputer = IterativeImputer()\n",
    "\n",
    "# Executar o processo de imputação\n",
    "df_data = pd.DataFrame(imputer.fit_transform(df_data), columns=df_data.columns)\n"
   ]
  },
  {
   "cell_type": "code",
   "execution_count": 133,
   "id": "c11207c6-60fe-40d4-96b7-ff4d05aa0418",
   "metadata": {},
   "outputs": [],
   "source": [
    "counts = df_data['Response'].value_counts()\n",
    "undersampled_majority = df_data[df_data['Response'] == 0.0].sample((counts[1.0]+2000), random_state=42)\n",
    "\n",
    "df_undersampled = pd.concat([undersampled_majority, df_data[df_data['Response'] == 1.0]])\n",
    "\n",
    "df_undersampled = df_undersampled.sample(frac=1, random_state=42)\n",
    "# df_undersampled"
   ]
  },
  {
   "cell_type": "code",
   "execution_count": 174,
   "id": "e33568b9-c95f-4f36-bd39-2f03e6b6dc52",
   "metadata": {},
   "outputs": [],
   "source": [
    "X = df_data.drop(\"Response\",axis=1).values\n",
    "y = df_data[\"Response\"]\n"
   ]
  },
  {
   "cell_type": "code",
   "execution_count": 43,
   "id": "8513ce8c-49c3-49bc-a01d-62a902cc1588",
   "metadata": {},
   "outputs": [],
   "source": [
    "# X=pd.get_dummies(X)\n"
   ]
  },
  {
   "cell_type": "code",
   "execution_count": 44,
   "id": "f758943f-9627-4a1f-8bea-c44f87f6c35d",
   "metadata": {},
   "outputs": [],
   "source": [
    "# labelencoder = LabelEncoder()\n",
    "# X[:,0] = labelencoder.fit_transform(X[:,0])\n",
    "# X[:,2] = labelencoder.fit_transform(X[:,2])\n",
    "# X[:,3] = labelencoder.fit_transform(X[:,3])\n",
    "# X[:,6] = labelencoder.fit_transform(X[:,6])\n",
    "# X[:,7] = labelencoder.fit_transform(X[:,7])\n",
    "# X[:,8] = labelencoder.fit_transform(X[:,8])\n",
    "# X"
   ]
  },
  {
   "cell_type": "code",
   "execution_count": 81,
   "id": "3a2092d1-47eb-428f-8678-b0e133e1ca3a",
   "metadata": {},
   "outputs": [],
   "source": [
    "X = X.astype('float32')\n",
    "y = y.astype('float32')"
   ]
  },
  {
   "cell_type": "code",
   "execution_count": 175,
   "id": "fb196473-05ba-4bf0-b5cc-297c581adb90",
   "metadata": {},
   "outputs": [],
   "source": [
    "X_treino, X_teste, y_treino, y_teste = train_test_split(X,\n",
    "                                                        y,\n",
    "                                                        test_size=0.3,\n",
    "                                                        random_state=10)"
   ]
  },
  {
   "cell_type": "code",
   "execution_count": 91,
   "id": "94d55f78-87a4-41fb-8414-4537dd00e62b",
   "metadata": {},
   "outputs": [],
   "source": [
    "# from keras.models import Sequential\n",
    "# from keras.layers import Dense,Dropout\n",
    "# from keras.optimizers import Adam\n",
    "# from tensorflow.keras import layers, regularizers\n",
    "# from tensorflow.keras.regularizers import L1\n",
    "# modelo = Sequential()\n",
    "# modelo.add(Dense(units = 12, activation = 'sigmoid', input_dim=12,kernel_regularizer=L1(0.01)))\n",
    "# modelo.add(Dense(units = 5, activation = 'sigmoid',kernel_regularizer=L1(0.01)))\n",
    "# modelo.add(Dense(units = 1, activation = 'sigmoid',kernel_regularizer=L1(0.01)))\n",
    "\n",
    "# modelo.compile(optimizer=\"adam\", loss='binary_crossentropy',metrics = [\"accuracy\"])"
   ]
  },
  {
   "cell_type": "code",
   "execution_count": 98,
   "id": "389af32d-6524-4ac8-98b1-1e27e5ed17c2",
   "metadata": {
    "scrolled": true,
    "tags": []
   },
   "outputs": [
    {
     "name": "stdout",
     "output_type": "stream",
     "text": [
      "Epoch 1/20\n",
      "535/535 [==============================] - 1s 1ms/step - loss: 0.6935 - accuracy: 0.4971 - val_loss: 0.6934 - val_accuracy: 0.4963\n",
      "Epoch 2/20\n",
      "535/535 [==============================] - 1s 1ms/step - loss: 0.6935 - accuracy: 0.4983 - val_loss: 0.6937 - val_accuracy: 0.4963\n",
      "Epoch 3/20\n",
      "535/535 [==============================] - 1s 1ms/step - loss: 0.6935 - accuracy: 0.5043 - val_loss: 0.6935 - val_accuracy: 0.4963\n",
      "Epoch 4/20\n",
      "535/535 [==============================] - 1s 1ms/step - loss: 0.6935 - accuracy: 0.5010 - val_loss: 0.6936 - val_accuracy: 0.4963\n",
      "Epoch 5/20\n",
      "535/535 [==============================] - 1s 1ms/step - loss: 0.6935 - accuracy: 0.4969 - val_loss: 0.6934 - val_accuracy: 0.4963\n",
      "Epoch 6/20\n",
      "535/535 [==============================] - 1s 1ms/step - loss: 0.6935 - accuracy: 0.4991 - val_loss: 0.6934 - val_accuracy: 0.4963\n",
      "Epoch 7/20\n",
      "535/535 [==============================] - 1s 1ms/step - loss: 0.6935 - accuracy: 0.5016 - val_loss: 0.6934 - val_accuracy: 0.4963\n",
      "Epoch 8/20\n",
      "535/535 [==============================] - 1s 1ms/step - loss: 0.6935 - accuracy: 0.5023 - val_loss: 0.6935 - val_accuracy: 0.4963\n",
      "Epoch 9/20\n",
      "535/535 [==============================] - 1s 1ms/step - loss: 0.6935 - accuracy: 0.5023 - val_loss: 0.6934 - val_accuracy: 0.4963\n",
      "Epoch 10/20\n",
      "535/535 [==============================] - 1s 1ms/step - loss: 0.6935 - accuracy: 0.4958 - val_loss: 0.6934 - val_accuracy: 0.4963\n",
      "Epoch 11/20\n",
      "535/535 [==============================] - 1s 1ms/step - loss: 0.6935 - accuracy: 0.5024 - val_loss: 0.6935 - val_accuracy: 0.4963\n",
      "Epoch 12/20\n",
      "535/535 [==============================] - 1s 1ms/step - loss: 0.6935 - accuracy: 0.5008 - val_loss: 0.6935 - val_accuracy: 0.4963\n",
      "Epoch 13/20\n",
      "535/535 [==============================] - 1s 1ms/step - loss: 0.6935 - accuracy: 0.4981 - val_loss: 0.6935 - val_accuracy: 0.4963\n",
      "Epoch 14/20\n",
      "535/535 [==============================] - 1s 1ms/step - loss: 0.6935 - accuracy: 0.5008 - val_loss: 0.6935 - val_accuracy: 0.4963\n",
      "Epoch 15/20\n",
      "535/535 [==============================] - 1s 1ms/step - loss: 0.6935 - accuracy: 0.5015 - val_loss: 0.6934 - val_accuracy: 0.4963\n",
      "Epoch 16/20\n",
      "535/535 [==============================] - 1s 1ms/step - loss: 0.6935 - accuracy: 0.5010 - val_loss: 0.6935 - val_accuracy: 0.4963\n",
      "Epoch 17/20\n",
      "535/535 [==============================] - 1s 1ms/step - loss: 0.6935 - accuracy: 0.5017 - val_loss: 0.6934 - val_accuracy: 0.4963\n",
      "Epoch 18/20\n",
      "535/535 [==============================] - 1s 1ms/step - loss: 0.6935 - accuracy: 0.4999 - val_loss: 0.6934 - val_accuracy: 0.4963\n",
      "Epoch 19/20\n",
      "535/535 [==============================] - 1s 1ms/step - loss: 0.6935 - accuracy: 0.5020 - val_loss: 0.6934 - val_accuracy: 0.4963\n",
      "Epoch 20/20\n",
      "535/535 [==============================] - 1s 1ms/step - loss: 0.6935 - accuracy: 0.4981 - val_loss: 0.6934 - val_accuracy: 0.4963\n"
     ]
    },
    {
     "data": {
      "text/plain": [
       "<keras.callbacks.History at 0x1ae9e7aa970>"
      ]
     },
     "execution_count": 98,
     "metadata": {},
     "output_type": "execute_result"
    }
   ],
   "source": [
    "# class_weight = {0:0.95, 1:1.15}\n",
    "# modelo.fit(X_treino, y_treino, epochs = 20, validation_data = (X_teste, y_teste))"
   ]
  },
  {
   "cell_type": "code",
   "execution_count": 99,
   "id": "a9cf8b6e-a842-456f-91c6-fde1f0ef434d",
   "metadata": {},
   "outputs": [
    {
     "name": "stdout",
     "output_type": "stream",
     "text": [
      "229/229 [==============================] - 0s 643us/step\n",
      "[[0]\n",
      " [0]\n",
      " [0]\n",
      " ...\n",
      " [0]\n",
      " [0]\n",
      " [0]]\n"
     ]
    }
   ],
   "source": [
    "# previsoes_dl = modelo.predict(X_teste)\n",
    "# previsoes_dl = (previsoes_dl > 0.5).astype(int)\n",
    "# print(previsoes_dl)"
   ]
  },
  {
   "cell_type": "code",
   "execution_count": 100,
   "id": "4fec4584-50b5-4de2-9725-f7cc60142b10",
   "metadata": {
    "tags": []
   },
   "outputs": [
    {
     "data": {
      "text/plain": [
       "array([[3636,    0],\n",
       "       [3690,    0]], dtype=int64)"
      ]
     },
     "execution_count": 100,
     "metadata": {},
     "output_type": "execute_result"
    }
   ],
   "source": [
    "# confusao = confusion_matrix(y_teste, previsoes_dl)\n",
    "# confusao"
   ]
  },
  {
   "cell_type": "code",
   "execution_count": 101,
   "id": "79a013db-96ba-4649-8bc8-419d4f4693ee",
   "metadata": {},
   "outputs": [
    {
     "name": "stdout",
     "output_type": "stream",
     "text": [
      "Taxa de acerto: 49.6%\n"
     ]
    }
   ],
   "source": [
    "# taxa_acerto_dl = accuracy_score(y_teste, previsoes_dl)\n",
    "# accurancy_dl = taxa_acerto_dl*100\n",
    "\n",
    "# print(f\"Taxa de acerto: {accurancy_dl:.3}%\")"
   ]
  },
  {
   "cell_type": "code",
   "execution_count": 102,
   "id": "daf148df-0c80-425b-afb0-393a49a13d68",
   "metadata": {},
   "outputs": [
    {
     "data": {
      "text/plain": [
       "0.0"
      ]
     },
     "execution_count": 102,
     "metadata": {},
     "output_type": "execute_result"
    }
   ],
   "source": [
    "# from sklearn.metrics import f1_score\n",
    "# f1 = f1_score(y_teste, previsoes_dl)\n",
    "# f1"
   ]
  },
  {
   "cell_type": "code",
   "execution_count": 103,
   "id": "a1d0656b-20d0-4153-8644-45c014bd55f3",
   "metadata": {},
   "outputs": [
    {
     "data": {
      "text/plain": [
       "0.0"
      ]
     },
     "execution_count": 103,
     "metadata": {},
     "output_type": "execute_result"
    }
   ],
   "source": [
    "# from sklearn.metrics import recall_score\n",
    "# recall = recall_score(y_teste, previsoes_dl)\n",
    "# recall"
   ]
  },
  {
   "cell_type": "code",
   "execution_count": 222,
   "id": "747071b2-b0dd-469d-9255-b86a353561a8",
   "metadata": {},
   "outputs": [
    {
     "data": {
      "text/html": [
       "<style>#sk-container-id-31 {color: black;}#sk-container-id-31 pre{padding: 0;}#sk-container-id-31 div.sk-toggleable {background-color: white;}#sk-container-id-31 label.sk-toggleable__label {cursor: pointer;display: block;width: 100%;margin-bottom: 0;padding: 0.3em;box-sizing: border-box;text-align: center;}#sk-container-id-31 label.sk-toggleable__label-arrow:before {content: \"▸\";float: left;margin-right: 0.25em;color: #696969;}#sk-container-id-31 label.sk-toggleable__label-arrow:hover:before {color: black;}#sk-container-id-31 div.sk-estimator:hover label.sk-toggleable__label-arrow:before {color: black;}#sk-container-id-31 div.sk-toggleable__content {max-height: 0;max-width: 0;overflow: hidden;text-align: left;background-color: #f0f8ff;}#sk-container-id-31 div.sk-toggleable__content pre {margin: 0.2em;color: black;border-radius: 0.25em;background-color: #f0f8ff;}#sk-container-id-31 input.sk-toggleable__control:checked~div.sk-toggleable__content {max-height: 200px;max-width: 100%;overflow: auto;}#sk-container-id-31 input.sk-toggleable__control:checked~label.sk-toggleable__label-arrow:before {content: \"▾\";}#sk-container-id-31 div.sk-estimator input.sk-toggleable__control:checked~label.sk-toggleable__label {background-color: #d4ebff;}#sk-container-id-31 div.sk-label input.sk-toggleable__control:checked~label.sk-toggleable__label {background-color: #d4ebff;}#sk-container-id-31 input.sk-hidden--visually {border: 0;clip: rect(1px 1px 1px 1px);clip: rect(1px, 1px, 1px, 1px);height: 1px;margin: -1px;overflow: hidden;padding: 0;position: absolute;width: 1px;}#sk-container-id-31 div.sk-estimator {font-family: monospace;background-color: #f0f8ff;border: 1px dotted black;border-radius: 0.25em;box-sizing: border-box;margin-bottom: 0.5em;}#sk-container-id-31 div.sk-estimator:hover {background-color: #d4ebff;}#sk-container-id-31 div.sk-parallel-item::after {content: \"\";width: 100%;border-bottom: 1px solid gray;flex-grow: 1;}#sk-container-id-31 div.sk-label:hover label.sk-toggleable__label {background-color: #d4ebff;}#sk-container-id-31 div.sk-serial::before {content: \"\";position: absolute;border-left: 1px solid gray;box-sizing: border-box;top: 0;bottom: 0;left: 50%;z-index: 0;}#sk-container-id-31 div.sk-serial {display: flex;flex-direction: column;align-items: center;background-color: white;padding-right: 0.2em;padding-left: 0.2em;position: relative;}#sk-container-id-31 div.sk-item {position: relative;z-index: 1;}#sk-container-id-31 div.sk-parallel {display: flex;align-items: stretch;justify-content: center;background-color: white;position: relative;}#sk-container-id-31 div.sk-item::before, #sk-container-id-31 div.sk-parallel-item::before {content: \"\";position: absolute;border-left: 1px solid gray;box-sizing: border-box;top: 0;bottom: 0;left: 50%;z-index: -1;}#sk-container-id-31 div.sk-parallel-item {display: flex;flex-direction: column;z-index: 1;position: relative;background-color: white;}#sk-container-id-31 div.sk-parallel-item:first-child::after {align-self: flex-end;width: 50%;}#sk-container-id-31 div.sk-parallel-item:last-child::after {align-self: flex-start;width: 50%;}#sk-container-id-31 div.sk-parallel-item:only-child::after {width: 0;}#sk-container-id-31 div.sk-dashed-wrapped {border: 1px dashed gray;margin: 0 0.4em 0.5em 0.4em;box-sizing: border-box;padding-bottom: 0.4em;background-color: white;}#sk-container-id-31 div.sk-label label {font-family: monospace;font-weight: bold;display: inline-block;line-height: 1.2em;}#sk-container-id-31 div.sk-label-container {text-align: center;}#sk-container-id-31 div.sk-container {/* jupyter's `normalize.less` sets `[hidden] { display: none; }` but bootstrap.min.css set `[hidden] { display: none !important; }` so we also need the `!important` here to be able to override the default hidden behavior on the sphinx rendered scikit-learn.org. See: https://github.com/scikit-learn/scikit-learn/issues/21755 */display: inline-block !important;position: relative;}#sk-container-id-31 div.sk-text-repr-fallback {display: none;}</style><div id=\"sk-container-id-31\" class=\"sk-top-container\"><div class=\"sk-text-repr-fallback\"><pre>RandomForestClassifier(class_weight={0: 1, 1: 3.06}, criterion=&#x27;log_loss&#x27;,\n",
       "                       max_depth=50, min_samples_leaf=10, n_estimators=2000)</pre><b>In a Jupyter environment, please rerun this cell to show the HTML representation or trust the notebook. <br />On GitHub, the HTML representation is unable to render, please try loading this page with nbviewer.org.</b></div><div class=\"sk-container\" hidden><div class=\"sk-item\"><div class=\"sk-estimator sk-toggleable\"><input class=\"sk-toggleable__control sk-hidden--visually\" id=\"sk-estimator-id-31\" type=\"checkbox\" checked><label for=\"sk-estimator-id-31\" class=\"sk-toggleable__label sk-toggleable__label-arrow\">RandomForestClassifier</label><div class=\"sk-toggleable__content\"><pre>RandomForestClassifier(class_weight={0: 1, 1: 3.06}, criterion=&#x27;log_loss&#x27;,\n",
       "                       max_depth=50, min_samples_leaf=10, n_estimators=2000)</pre></div></div></div></div></div>"
      ],
      "text/plain": [
       "RandomForestClassifier(class_weight={0: 1, 1: 3.06}, criterion='log_loss',\n",
       "                       max_depth=50, min_samples_leaf=10, n_estimators=2000)"
      ]
     },
     "execution_count": 222,
     "metadata": {},
     "output_type": "execute_result"
    }
   ],
   "source": [
    "class_weight = {0:1, 1:3.06}\n",
    "floresta = RandomForestClassifier(n_estimators=2000,class_weight=class_weight,min_samples_split=2,max_depth=50, min_samples_leaf=10,criterion=\"log_loss\")\n",
    "floresta.fit(X_treino,y_treino)"
   ]
  },
  {
   "cell_type": "code",
   "execution_count": 219,
   "id": "a300140b-fc11-499f-9a21-49d0b05d5216",
   "metadata": {},
   "outputs": [
    {
     "name": "stdout",
     "output_type": "stream",
     "text": [
      "[[10116  1494]\n",
      " [ 2830   825]]\n",
      "Taxa de acerto: 71.7%\n"
     ]
    }
   ],
   "source": [
    "previsoes_florest = floresta.predict(X_teste)\n",
    "\n",
    "confusao = confusion_matrix(y_teste, previsoes_florest)\n",
    "taxa_acerto_florest = accuracy_score(y_teste, previsoes_florest) \n",
    "print(confusao)\n",
    "accurancy_florest = taxa_acerto_florest*100\n",
    "print(f\"Taxa de acerto: {accurancy_florest:.3}%\")"
   ]
  },
  {
   "cell_type": "code",
   "execution_count": 220,
   "id": "c1adf191-ed6a-4f06-8bbc-d6b6983e787e",
   "metadata": {},
   "outputs": [
    {
     "data": {
      "text/plain": [
       "0.22571819425444598"
      ]
     },
     "execution_count": 220,
     "metadata": {},
     "output_type": "execute_result"
    }
   ],
   "source": [
    "recall = recall_score(y_teste, previsoes_florest)\n",
    "recall"
   ]
  },
  {
   "cell_type": "code",
   "execution_count": 221,
   "id": "37b8c0a1-e8ea-44f1-826c-1be5d587b126",
   "metadata": {},
   "outputs": [
    {
     "data": {
      "text/plain": [
       "0.2761968530297958"
      ]
     },
     "execution_count": 221,
     "metadata": {},
     "output_type": "execute_result"
    }
   ],
   "source": [
    "f1 = f1_score(y_teste, previsoes_florest)\n",
    "f1"
   ]
  },
  {
   "cell_type": "code",
   "execution_count": 109,
   "id": "c0070fd3-2a21-4f90-a606-e79a63525b59",
   "metadata": {
    "tags": []
   },
   "outputs": [
    {
     "data": {
      "text/plain": [
       "array([0.08226869, 0.12593975, 0.01383614, 0.00641794, 0.07395603,\n",
       "       0.07457477, 0.00779941, 0.04127458, 0.04479589, 0.03838819,\n",
       "       0.36512508, 0.12562353])"
      ]
     },
     "execution_count": 109,
     "metadata": {},
     "output_type": "execute_result"
    }
   ],
   "source": [
    "floresta.feature_importances_"
   ]
  },
  {
   "cell_type": "code",
   "execution_count": 181,
   "id": "1eaed99e-4c4a-41cf-b711-1b69ac8178e8",
   "metadata": {},
   "outputs": [],
   "source": [
    "X_treino2 = X_treino[:,[0,1,4,5,10,11]]\n",
    "X_teste2 = X_teste[:,[0,1,4,5,10,11]]"
   ]
  },
  {
   "cell_type": "code",
   "execution_count": 231,
   "id": "84d4305f-4c6c-4d9e-8e13-4aaec4855ef7",
   "metadata": {},
   "outputs": [
    {
     "data": {
      "text/html": [
       "<style>#sk-container-id-34 {color: black;}#sk-container-id-34 pre{padding: 0;}#sk-container-id-34 div.sk-toggleable {background-color: white;}#sk-container-id-34 label.sk-toggleable__label {cursor: pointer;display: block;width: 100%;margin-bottom: 0;padding: 0.3em;box-sizing: border-box;text-align: center;}#sk-container-id-34 label.sk-toggleable__label-arrow:before {content: \"▸\";float: left;margin-right: 0.25em;color: #696969;}#sk-container-id-34 label.sk-toggleable__label-arrow:hover:before {color: black;}#sk-container-id-34 div.sk-estimator:hover label.sk-toggleable__label-arrow:before {color: black;}#sk-container-id-34 div.sk-toggleable__content {max-height: 0;max-width: 0;overflow: hidden;text-align: left;background-color: #f0f8ff;}#sk-container-id-34 div.sk-toggleable__content pre {margin: 0.2em;color: black;border-radius: 0.25em;background-color: #f0f8ff;}#sk-container-id-34 input.sk-toggleable__control:checked~div.sk-toggleable__content {max-height: 200px;max-width: 100%;overflow: auto;}#sk-container-id-34 input.sk-toggleable__control:checked~label.sk-toggleable__label-arrow:before {content: \"▾\";}#sk-container-id-34 div.sk-estimator input.sk-toggleable__control:checked~label.sk-toggleable__label {background-color: #d4ebff;}#sk-container-id-34 div.sk-label input.sk-toggleable__control:checked~label.sk-toggleable__label {background-color: #d4ebff;}#sk-container-id-34 input.sk-hidden--visually {border: 0;clip: rect(1px 1px 1px 1px);clip: rect(1px, 1px, 1px, 1px);height: 1px;margin: -1px;overflow: hidden;padding: 0;position: absolute;width: 1px;}#sk-container-id-34 div.sk-estimator {font-family: monospace;background-color: #f0f8ff;border: 1px dotted black;border-radius: 0.25em;box-sizing: border-box;margin-bottom: 0.5em;}#sk-container-id-34 div.sk-estimator:hover {background-color: #d4ebff;}#sk-container-id-34 div.sk-parallel-item::after {content: \"\";width: 100%;border-bottom: 1px solid gray;flex-grow: 1;}#sk-container-id-34 div.sk-label:hover label.sk-toggleable__label {background-color: #d4ebff;}#sk-container-id-34 div.sk-serial::before {content: \"\";position: absolute;border-left: 1px solid gray;box-sizing: border-box;top: 0;bottom: 0;left: 50%;z-index: 0;}#sk-container-id-34 div.sk-serial {display: flex;flex-direction: column;align-items: center;background-color: white;padding-right: 0.2em;padding-left: 0.2em;position: relative;}#sk-container-id-34 div.sk-item {position: relative;z-index: 1;}#sk-container-id-34 div.sk-parallel {display: flex;align-items: stretch;justify-content: center;background-color: white;position: relative;}#sk-container-id-34 div.sk-item::before, #sk-container-id-34 div.sk-parallel-item::before {content: \"\";position: absolute;border-left: 1px solid gray;box-sizing: border-box;top: 0;bottom: 0;left: 50%;z-index: -1;}#sk-container-id-34 div.sk-parallel-item {display: flex;flex-direction: column;z-index: 1;position: relative;background-color: white;}#sk-container-id-34 div.sk-parallel-item:first-child::after {align-self: flex-end;width: 50%;}#sk-container-id-34 div.sk-parallel-item:last-child::after {align-self: flex-start;width: 50%;}#sk-container-id-34 div.sk-parallel-item:only-child::after {width: 0;}#sk-container-id-34 div.sk-dashed-wrapped {border: 1px dashed gray;margin: 0 0.4em 0.5em 0.4em;box-sizing: border-box;padding-bottom: 0.4em;background-color: white;}#sk-container-id-34 div.sk-label label {font-family: monospace;font-weight: bold;display: inline-block;line-height: 1.2em;}#sk-container-id-34 div.sk-label-container {text-align: center;}#sk-container-id-34 div.sk-container {/* jupyter's `normalize.less` sets `[hidden] { display: none; }` but bootstrap.min.css set `[hidden] { display: none !important; }` so we also need the `!important` here to be able to override the default hidden behavior on the sphinx rendered scikit-learn.org. See: https://github.com/scikit-learn/scikit-learn/issues/21755 */display: inline-block !important;position: relative;}#sk-container-id-34 div.sk-text-repr-fallback {display: none;}</style><div id=\"sk-container-id-34\" class=\"sk-top-container\"><div class=\"sk-text-repr-fallback\"><pre>RandomForestClassifier(class_weight={0: 1, 1: 3}, max_depth=30,\n",
       "                       n_estimators=2000)</pre><b>In a Jupyter environment, please rerun this cell to show the HTML representation or trust the notebook. <br />On GitHub, the HTML representation is unable to render, please try loading this page with nbviewer.org.</b></div><div class=\"sk-container\" hidden><div class=\"sk-item\"><div class=\"sk-estimator sk-toggleable\"><input class=\"sk-toggleable__control sk-hidden--visually\" id=\"sk-estimator-id-34\" type=\"checkbox\" checked><label for=\"sk-estimator-id-34\" class=\"sk-toggleable__label sk-toggleable__label-arrow\">RandomForestClassifier</label><div class=\"sk-toggleable__content\"><pre>RandomForestClassifier(class_weight={0: 1, 1: 3}, max_depth=30,\n",
       "                       n_estimators=2000)</pre></div></div></div></div></div>"
      ],
      "text/plain": [
       "RandomForestClassifier(class_weight={0: 1, 1: 3}, max_depth=30,\n",
       "                       n_estimators=2000)"
      ]
     },
     "execution_count": 231,
     "metadata": {},
     "output_type": "execute_result"
    }
   ],
   "source": [
    "class_weight = {0:1, 1:3}\n",
    "floresta2 = RandomForestClassifier(n_estimators=2000,class_weight=class_weight,min_samples_split=2,max_depth=30)\n",
    "floresta2.fit(X_treino2,y_treino)"
   ]
  },
  {
   "cell_type": "code",
   "execution_count": 232,
   "id": "1dfc6177-b2e2-42d0-b503-4f0a04d72ce4",
   "metadata": {},
   "outputs": [
    {
     "name": "stdout",
     "output_type": "stream",
     "text": [
      "[[11264   346]\n",
      " [ 3428   227]]\n",
      "Taxa de acerto: 75.3%\n"
     ]
    }
   ],
   "source": [
    "previsoes_florest = floresta2.predict(X_teste2)\n",
    "confusao = confusion_matrix(y_teste, previsoes_florest)\n",
    "taxa_acerto_florest = accuracy_score(y_teste, previsoes_florest) \n",
    "print(confusao)\n",
    "accurancy_florest = taxa_acerto_florest*100\n",
    "print(f\"Taxa de acerto: {accurancy_florest:.3}%\")"
   ]
  },
  {
   "cell_type": "code",
   "execution_count": 233,
   "id": "76cdbef7-6d71-4a34-896c-8a8d4b2195a9",
   "metadata": {},
   "outputs": [
    {
     "data": {
      "text/plain": [
       "0.06210670314637483"
      ]
     },
     "execution_count": 233,
     "metadata": {},
     "output_type": "execute_result"
    }
   ],
   "source": [
    "recall = recall_score(y_teste, previsoes_florest)\n",
    "recall"
   ]
  },
  {
   "cell_type": "code",
   "execution_count": 234,
   "id": "a315bf28-f0c7-42fc-b8c0-17a49562ba7f",
   "metadata": {},
   "outputs": [
    {
     "data": {
      "text/plain": [
       "0.10737937559129612"
      ]
     },
     "execution_count": 234,
     "metadata": {},
     "output_type": "execute_result"
    }
   ],
   "source": [
    "f1 = f1_score(y_teste, previsoes_florest)\n",
    "f1"
   ]
  },
  {
   "cell_type": "code",
   "execution_count": null,
   "id": "2ef09de4-718f-4880-b292-6fe4bf155a52",
   "metadata": {},
   "outputs": [],
   "source": []
  }
 ],
 "metadata": {
  "kernelspec": {
   "display_name": "Python 3 (ipykernel)",
   "language": "python",
   "name": "python3"
  },
  "language_info": {
   "codemirror_mode": {
    "name": "ipython",
    "version": 3
   },
   "file_extension": ".py",
   "mimetype": "text/x-python",
   "name": "python",
   "nbconvert_exporter": "python",
   "pygments_lexer": "ipython3",
   "version": "3.9.13"
  }
 },
 "nbformat": 4,
 "nbformat_minor": 5
}
